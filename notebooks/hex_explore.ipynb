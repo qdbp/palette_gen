{
 "cells": [
  {
   "cell_type": "code",
   "execution_count": 31,
   "metadata": {
    "collapsed": true
   },
   "outputs": [],
   "source": [
    "import numpy as np\n",
    "import sympy as sp\n",
    "\n",
    "sp.init_printing(use_latex=True)\n",
    "\n",
    "\n",
    "a = sp.Symbol(\"a\", real=True, positive=True)\n",
    "b = sp.Symbol(\"b\", real=True, positive=True)\n",
    "h = sp.Symbol(\"h\", real=True, positive=True)"
   ]
  },
  {
   "cell_type": "markdown",
   "metadata": {
    "collapsed": false,
    "pycharm": {
     "name": "#%% md\n"
    }
   },
   "source": [
    "# Introduction\n",
    "We investigate how to lay out three rings of six colors in a uniform way.\n"
   ]
  },
  {
   "cell_type": "markdown",
   "metadata": {
    "collapsed": false,
    "pycharm": {
     "name": "#%% md\n"
    }
   },
   "source": [
    "## Formulation\n",
    "We want to solve for three layers of six colors in a hexagonal arrangement,\n",
    "such that the distance between nearest neighbor colors between layers is equal\n",
    "to some uniform value. WLOG, we take this uniform value to equal 1.\n",
    "\n",
    "Specifically, we define the distance from the center of the first layer to be 1,\n",
    "of the second layer to be $a$ and of the third layer to be $b$\n",
    "\n",
    "We also want the distance between successive layers to be some constant $h $.\n",
    "\n",
    "We express this in the two equations below (derived from the geometry of the\n",
    "offset hexagons). First, the equation for $a$:"
   ]
  },
  {
   "cell_type": "markdown",
   "metadata": {
    "collapsed": false,
    "pycharm": {
     "name": "#%% md\n"
    }
   },
   "source": [
    "### Light background: expanding rings\n",
    "We wish the colors in our rings to be of a consistent visual distance from the\n",
    "background. For light backgrounds that means we want colorfulness to increase\n",
    "as lightness increases.\n",
    "\n",
    "Thus, we stipulate that $a > 1$ and $b > a$.\n"
   ]
  },
  {
   "cell_type": "code",
   "execution_count": 32,
   "metadata": {
    "collapsed": false,
    "pycharm": {
     "name": "#%%\n"
    }
   },
   "outputs": [
    {
     "data": {
      "image/png": "[encoded data removed]",
      "text/latex": "$\\displaystyle a^{2} - \\sqrt{3} a + h^{2} + 1 = 1$",
      "text/plain": " 2           2        \na  - √3⋅a + h  + 1 = 1"
     },
     "execution_count": 32,
     "metadata": {},
     "output_type": "execute_result"
    }
   ],
   "source": [
    "eq1 = sp.Eq(1, sp.Rational(1, 4) + (a - sp.sqrt(3) / 2) ** 2 + h**2).simplify()\n",
    "eq1"
   ]
  },
  {
   "cell_type": "markdown",
   "metadata": {
    "collapsed": false,
    "pycharm": {
     "name": "#%% md\n"
    }
   },
   "source": [
    "We remark here that a can be at most $\\sqrt 3$ (when $h = 0$). The equaion for\n",
    "$b$:"
   ]
  },
  {
   "cell_type": "code",
   "execution_count": 33,
   "metadata": {
    "collapsed": false,
    "pycharm": {
     "name": "#%%\n"
    }
   },
   "outputs": [
    {
     "data": {
      "image/png": "[encoded data removed]",
      "text/latex": "$\\displaystyle a^{2} - \\sqrt{3} a b + b^{2} + h^{2} = 1$",
      "text/plain": " 2             2    2    \na  - √3⋅a⋅b + b  + h  = 1"
     },
     "execution_count": 33,
     "metadata": {},
     "output_type": "execute_result"
    }
   ],
   "source": [
    "eq2 = sp.Eq(1, (a / 2) ** 2 + (b - a * sp.sqrt(3) / 2) ** 2 + h**2).simplify()\n",
    "eq2"
   ]
  },
  {
   "cell_type": "markdown",
   "metadata": {
    "collapsed": false,
    "pycharm": {
     "name": "#%% md\n"
    }
   },
   "source": [
    "We can solve the first of these to get equations for $b$ in terms of $a$"
   ]
  },
  {
   "cell_type": "code",
   "execution_count": 38,
   "metadata": {
    "collapsed": false,
    "pycharm": {
     "name": "#%%\n"
    }
   },
   "outputs": [
    {
     "data": {
      "image/png": "[encoded data removed]",
      "text/latex": "$\\displaystyle \\left[ \\sqrt{a} \\sqrt{- a + \\sqrt{3}}\\right]$",
      "text/plain": "⎡     _________⎤\n⎣√a⋅╲╱ -a + √3 ⎦"
     },
     "execution_count": 38,
     "metadata": {},
     "output_type": "execute_result"
    }
   ],
   "source": [
    "h_expr = sp.solve(eq1, h)\n",
    "h_expr\n",
    "# [0].simplify()\n",
    "# h_expr"
   ]
  },
  {
   "cell_type": "code",
   "execution_count": 35,
   "metadata": {
    "collapsed": false,
    "pycharm": {
     "name": "#%%\n"
    }
   },
   "outputs": [
    {
     "data": {
      "image/png": "[encoded data removed]",
      "text/latex": "$\\displaystyle \\left[ 1, \\  \\sqrt{3} a - 1\\right]$",
      "text/plain": "[1, √3⋅a - 1]"
     },
     "execution_count": 35,
     "metadata": {},
     "output_type": "execute_result"
    }
   ],
   "source": [
    "b_of_a = sp.solve(eq2.subs(h, h_expr), b)\n",
    "b_of_a"
   ]
  },
  {
   "cell_type": "markdown",
   "metadata": {
    "collapsed": false,
    "pycharm": {
     "name": "#%% md\n"
    }
   },
   "source": [
    "The b = 1 solution is the one giving a symmetrical sandwich around the middle\n",
    "layer. This violates $b > a$. We see that for the second solution, $b > a$ if\n",
    "$a > \\frac 1 {\\sqrt 3 - 1} \\approx 1.37$.\n",
    "\n",
    "This gives a narrow range of valid $a$ values: $\\sqrt 3 > a > \\frac 1 {\\sqrt 3 - 1}$\n",
    "\n",
    "We can plot $a, b$ vs. $h$ in this range:"
   ]
  },
  {
   "cell_type": "code",
   "execution_count": 36,
   "metadata": {
    "collapsed": false,
    "pycharm": {
     "name": "#%%\n"
    }
   },
   "outputs": [
    {
     "data": {
      "image/png": "[encoded data removed]",
      "text/plain": "<Figure size 432x288 with 1 Axes>"
     },
     "metadata": {
      "needs_background": "light"
     },
     "output_type": "display_data"
    }
   ],
   "source": [
    "as_ = np.linspace(1 / (np.sqrt(3) - 1) + 0.01, np.sqrt(3) - 0.01, num=100)\n",
    "f_h = sp.lambdify(a, h_expr)\n",
    "f_b = sp.lambdify(a, b_of_a[1])\n",
    "\n",
    "hs = f_h(as_)\n",
    "bs = f_b(as_)\n",
    "\n",
    "import matplotlib.pyplot as plt\n",
    "\n",
    "plt.plot(hs, as_, label=\"$a$\")\n",
    "plt.plot(hs, bs, label=\"$b$\")\n",
    "plt.plot(hs, np.ones(len(as_)), label=\"base ring\")\n",
    "plt.legend()\n",
    "plt.xlabel(\"height\")\n",
    "plt.ylabel(\"colorfulness\")\n",
    "plt.title(\"Ring 2 and 3 colorfulness vs. ring separation.\")\n",
    "plt.show()"
   ]
  },
  {
   "cell_type": "markdown",
   "metadata": {
    "collapsed": false,
    "pycharm": {
     "name": "#%% md\n"
    }
   },
   "source": [
    "Any of these values gives an \"acceptable\" solution. To pick one, we can make\n",
    "one final constraint: let the $b = 1$ solution points have the target lattice\n",
    "distance of $1$ from their hue-mates in the $b = a \\sqrt 3 - 1$ solution.\n",
    "\n",
    "This implies that $b = 2 \\implies a = \\sqrt 3$.\n",
    "\n",
    "This is a pleasing result, though in hindsight not surprising, because this\n",
    "last constraint turns the top and bottom rings into a subset of a hexagonal\n",
    "close-packed lattice."
   ]
  },
  {
   "cell_type": "code",
   "execution_count": 36,
   "metadata": {
    "collapsed": false,
    "pycharm": {
     "name": "#%%\n"
    }
   },
   "outputs": [],
   "source": []
  }
 ],
 "metadata": {
  "kernelspec": {
   "display_name": "Python 3",
   "language": "python",
   "name": "python3"
  },
  "language_info": {
   "codemirror_mode": {
    "name": "ipython",
    "version": 2
   },
   "file_extension": ".py",
   "mimetype": "text/x-python",
   "name": "python",
   "nbconvert_exporter": "python",
   "pygments_lexer": "ipython2",
   "version": "2.7.6"
  }
 },
 "nbformat": 4,
 "nbformat_minor": 0
}